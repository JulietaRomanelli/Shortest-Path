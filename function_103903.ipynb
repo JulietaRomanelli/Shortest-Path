{
  "nbformat": 4,
  "nbformat_minor": 0,
  "metadata": {
    "colab": {
      "provenance": [],
      "authorship_tag": "ABX9TyNfCiHzcIVLyopUBFAyzY5W",
      "include_colab_link": true
    },
    "kernelspec": {
      "name": "python3",
      "display_name": "Python 3"
    },
    "language_info": {
      "name": "python"
    }
  },
  "cells": [
    {
      "cell_type": "markdown",
      "metadata": {
        "id": "view-in-github",
        "colab_type": "text"
      },
      "source": [
        "<a href=\"https://colab.research.google.com/github/JulietaRomanelli/Shortest-Path/blob/main/function_103903.ipynb\" target=\"_parent\"><img src=\"https://colab.research.google.com/assets/colab-badge.svg\" alt=\"Open In Colab\"/></a>"
      ]
    },
    {
      "cell_type": "code",
      "source": [
        "import networkx as nx\n",
        "  #Importo la libreria que se utilizara \n",
        "\n",
        "def function_103903(w):\n",
        "  g = nx.Graph()\n",
        "\n",
        "  weight = [2305,1241,2117,1149,1032,1157,1430,1969,1293,539,787,1181,945,2453,1435,w]\n",
        "  edges = [(1,2), (1,3), (1,4), (2,5), (2,6), (3,2), (3,4), (3,6), (4,6), (4,7), (5,8), (6,5), (6,7), (6,8), (7,8), (1,6)]\n",
        "    #Cargo todas las distancias, en concordancia de lugar con los movimientos posibles\n",
        "\n",
        "  for i in range(len(weight)):\n",
        "    g.add_edge(edges[i][0], edges[i][1], weight = weight[i])\n",
        "      #Le añado a la función las distancias de cada movimiento posible\n",
        "\n",
        "  nodes = nx.shortest_path(g,source=1,target=8,method='dijkstra', weight = 'weight')\n",
        "    #Me devuelve los nodos por los que pasará\n",
        "  total_optimal_distance = nx.shortest_path_length(g,source=1,target=8,method='dijkstra', weight = 'weight')\n",
        "    #Me devuelve la distacia óptima recorrida\n",
        "  print(f\"El camino mas corto es aquel que pasa por los nodos {nodes} y la distacia recorrida es de {total_optimal_distance}.\")\n",
        "  return total_optimal_distance\n",
        "  \n",
        "function_103903(1000)\n"
      ],
      "metadata": {
        "id": "FP6nsa1VByx2",
        "colab": {
          "base_uri": "https://localhost:8080/"
        },
        "outputId": "47c1b760-9c17-448d-c236-a5edf84fd461"
      },
      "execution_count": 5,
      "outputs": [
        {
          "output_type": "stream",
          "name": "stdout",
          "text": [
            "El camino mas corto es aquel que pasa por los nodos [1, 6, 5, 8] y la distacia recorrida es de 2968.\n"
          ]
        },
        {
          "output_type": "execute_result",
          "data": {
            "text/plain": [
              "2968"
            ]
          },
          "metadata": {},
          "execution_count": 5
        }
      ]
    }
  ]
}